{
 "cells": [
  {
   "cell_type": "code",
   "execution_count": 1,
   "metadata": {},
   "outputs": [],
   "source": [
    "import numpy as np\n",
    "import matplotlib.pyplot as plt\n",
    "import pandas as pd\n",
    "import xlrd\n",
    "import datetime\n",
    "from datetime import timedelta"
   ]
  },
  {
   "cell_type": "code",
   "execution_count": 3,
   "metadata": {},
   "outputs": [],
   "source": [
    "data = pd.read_excel('Data.xlsx')\n",
    "from datetime import date\n",
    "\n",
    "data[\"DAY_TYPE\"] = data.Date.apply(lambda x: 1 if x.dayofweek > 5 else 0  )\n",
    "data[\"Day_Name\"] = data['Date'].dt.weekday_name\n",
    "\n",
    "from pandas.tseries.holiday import Holiday, AbstractHolidayCalendar\n",
    "class BelgianHolidaysCalendar(AbstractHolidayCalendar):\n",
    "    rules = [Holiday('NY', month=1, day=1),\n",
    "             Holiday('Easter', month=4, day=17),\n",
    "         Holiday('Labour day', month=5, day=1),\n",
    "         Holiday('Ascension day', month=5, day=25),\n",
    "         Holiday('White Monday day', month=6, day=5),\n",
    "             Holiday('Belgian National day', month=7, day=21),\n",
    "             Holiday('Assumption day', month=8, day=15),\n",
    "             Holiday('All Saints day', month=11, day=1),\n",
    "             Holiday('Armistice day', month=11, day=11),\n",
    "             Holiday('Xmas day', month=12, day=25)\n",
    "   ]\n",
    "    \n",
    "cal = BelgianHolidaysCalendar()\n",
    "holidays = cal.holidays(start = data.Date.min(), end = data.Date.max())\n",
    "data[\"IS_HOLIDAY\"] = data.Date.isin(holidays)\n",
    "data.IS_HOLIDAY = data.IS_HOLIDAY.astype(\"int\")\n",
    "#data.head()"
   ]
  },
  {
   "cell_type": "code",
   "execution_count": null,
   "metadata": {},
   "outputs": [],
   "source": [
    "#plt.figure(figsize=(20,15))\n",
    "\n",
    "plt.subplot(131)\n",
    "plt.xlabel('Day Type (0: weekday, 1: weekend)',fontsize=12)\n",
    "plt.ylabel('Demand (KWh)',fontsize=12)\n",
    "plt.bar(data['DAY_TYPE'], data['Load'])\n",
    "\n",
    "plt.show()"
   ]
  },
  {
   "cell_type": "code",
   "execution_count": null,
   "metadata": {},
   "outputs": [],
   "source": [
    "plt.figure(figsize=(30,10))\n",
    "plt.subplot(131)\n",
    "plt.xlabel('Day',fontsize=12)\n",
    "plt.ylabel('Demand (KWh)',fontsize=12)\n",
    "plt.bar(data['Day_Name'], data['Load'])\n",
    "\n",
    "plt.show()"
   ]
  },
  {
   "cell_type": "code",
   "execution_count": null,
   "metadata": {},
   "outputs": [],
   "source": [
    "#plt.figure(figsize=(30,10))\n",
    "plt.subplot(131)\n",
    "plt.xlabel('Day Type (0: Working Day, 1: Holiday)',fontsize=12)\n",
    "plt.ylabel('Demand (KWh)',fontsize=12)\n",
    "plt.bar(data['IS_HOLIDAY'], data['Load'])\n",
    "\n",
    "plt.show()"
   ]
  },
  {
   "cell_type": "code",
   "execution_count": null,
   "metadata": {},
   "outputs": [],
   "source": [
    "data=data.groupby(['Date']).mean()\n",
    "data.head()"
   ]
  },
  {
   "cell_type": "code",
   "execution_count": null,
   "metadata": {},
   "outputs": [],
   "source": [
    "plt.figure(figsize=(20,10))\n",
    "plt.xlabel('Date',fontsize=18)\n",
    "plt.ylabel('Demand (KWh)',fontsize=18)\n",
    "plt.plot(data['Load'],linewidth=3)"
   ]
  },
  {
   "cell_type": "code",
   "execution_count": null,
   "metadata": {},
   "outputs": [],
   "source": [
    "plt.figure(figsize=(20,10))\n",
    "plt.xlabel('Date',fontsize=18)\n",
    "plt.ylabel('Demand (KWh)',fontsize=18)\n",
    "plt.plot(data[['Load']].rolling(30).mean())"
   ]
  },
  {
   "cell_type": "code",
   "execution_count": null,
   "metadata": {},
   "outputs": [],
   "source": [
    "entries = \"Total rows: {0}\".format(len(data))\n",
    "print (entries)"
   ]
  },
  {
   "cell_type": "code",
   "execution_count": null,
   "metadata": {},
   "outputs": [],
   "source": [
    "from pandas.plotting import autocorrelation_plot\n",
    "from matplotlib.pyplot import figure\n",
    "plt.figure(linewidth=3, figsize=(20,15))\n",
    "autocorrelation_plot(data[['Load']]).plot();"
   ]
  },
  {
   "cell_type": "code",
   "execution_count": null,
   "metadata": {},
   "outputs": [],
   "source": [
    "from matplotlib import pyplot\n",
    "series = data['Load']\n",
    "data['Load'].hist(linewidth=2,figsize=(20,15))\n",
    "plt.ylabel('Distribution',fontsize=18)\n",
    "plt.xlabel('Demand (KWh)',fontsize=18)\n",
    "pyplot.show()"
   ]
  },
  {
   "cell_type": "code",
   "execution_count": null,
   "metadata": {},
   "outputs": [],
   "source": [
    "series.plot(kind='kde',linewidth=2,figsize=(20,15))\n",
    "plt.ylabel('Density',fontsize=18)\n",
    "plt.xlabel('Demand (KWh)',fontsize=18)\n",
    "pyplot.show()"
   ]
  },
  {
   "cell_type": "code",
   "execution_count": null,
   "metadata": {},
   "outputs": [],
   "source": [
    "from pandas.plotting import lag_plot\n",
    "plt.figure(linewidth=2, figsize=(20,15))\n",
    "lag_plot(series)\n",
    "pyplot.show()"
   ]
  },
  {
   "cell_type": "code",
   "execution_count": null,
   "metadata": {},
   "outputs": [],
   "source": []
  }
 ],
 "metadata": {
  "kernelspec": {
   "display_name": "Python 3",
   "language": "python",
   "name": "python3"
  },
  "language_info": {
   "codemirror_mode": {
    "name": "ipython",
    "version": 3
   },
   "file_extension": ".py",
   "mimetype": "text/x-python",
   "name": "python",
   "nbconvert_exporter": "python",
   "pygments_lexer": "ipython3",
   "version": "3.6.8"
  }
 },
 "nbformat": 4,
 "nbformat_minor": 2
}
