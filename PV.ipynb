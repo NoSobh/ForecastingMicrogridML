{
 "cells": [
  {
   "cell_type": "code",
   "execution_count": 1,
   "metadata": {},
   "outputs": [],
   "source": [
    "import numpy as np\n",
    "import matplotlib.pyplot as plt\n",
    "import pandas as pd\n",
    "import xlrd\n",
    "import datetime\n",
    "from datetime import timedelta"
   ]
  },
  {
   "cell_type": "code",
   "execution_count": 4,
   "metadata": {},
   "outputs": [],
   "source": [
    "data = pd.read_excel('Data.xlsx')\n",
    "#data.head()"
   ]
  },
  {
   "cell_type": "code",
   "execution_count": null,
   "metadata": {},
   "outputs": [],
   "source": [
    "entries = \"Total rows: {0}\".format(len(data))\n",
    "print (entries)"
   ]
  },
  {
   "cell_type": "code",
   "execution_count": null,
   "metadata": {},
   "outputs": [],
   "source": [
    "plt.figure(figsize = (18,9))\n",
    "plt.plot(range(data.shape[0]),(data['PV Production (kW)']))\n",
    "plt.xticks(range(0,data.shape[0],500),data['Date'].loc[::500],rotation=45)\n",
    "plt.xlabel('Date',fontsize=18)\n",
    "plt.ylabel('PV Production',fontsize=18)\n",
    "plt.show()"
   ]
  },
  {
   "cell_type": "code",
   "execution_count": null,
   "metadata": {},
   "outputs": [],
   "source": [
    "x = data[['Date']]\n",
    "y = data[['PV Production (kW)']].rolling(24).mean()\n",
    "\n",
    "plt.figure(figsize=(20,10))\n",
    "plt.xlabel('Date',fontsize=18)\n",
    "plt.ylabel('PV Production',fontsize=18)\n",
    "plt.plot(x,y,linewidth=3)\n",
    "#plt.show()"
   ]
  },
  {
   "cell_type": "code",
   "execution_count": null,
   "metadata": {},
   "outputs": [],
   "source": [
    "x = data[['Date']]\n",
    "y = data[['Load']].diff(24)\n",
    "\n",
    "plt.figure(figsize=(20,10))\n",
    "plt.xlabel('Date',fontsize=18)\n",
    "plt.ylabel('PV Production (kW)',fontsize=18)\n",
    "plt.plot(x,y,linewidth=3)\n",
    "#plt.show()"
   ]
  },
  {
   "cell_type": "code",
   "execution_count": null,
   "metadata": {},
   "outputs": [],
   "source": [
    "from pandas.plotting import autocorrelation_plot\n",
    "from matplotlib.pyplot import figure\n",
    "plt.figure(linewidth=3, figsize=(20,15))\n",
    "autocorrelation_plot(data[['PV Production (kW)']]).plot();"
   ]
  },
  {
   "cell_type": "code",
   "execution_count": null,
   "metadata": {},
   "outputs": [],
   "source": [
    "from matplotlib import pyplot\n",
    "series = data['PV Production (kW)']\n",
    "data['PV Production (kW)'].hist(linewidth=2,figsize=(20,15))\n",
    "plt.ylabel('Distribution',fontsize=18)\n",
    "plt.xlabel('PV Production (kW)',fontsize=18)\n",
    "pyplot.show()"
   ]
  },
  {
   "cell_type": "code",
   "execution_count": null,
   "metadata": {},
   "outputs": [],
   "source": [
    "series.plot(kind='kde',linewidth=2,figsize=(20,15))\n",
    "plt.ylabel('Density',fontsize=18)\n",
    "plt.xlabel('PV Production (kW)',fontsize=18)\n",
    "pyplot.show()"
   ]
  },
  {
   "cell_type": "code",
   "execution_count": null,
   "metadata": {},
   "outputs": [],
   "source": [
    "from pandas.plotting import lag_plot\n",
    "plt.figure(linewidth=2, figsize=(20,15))\n",
    "lag_plot(series)\n",
    "pyplot.show()"
   ]
  },
  {
   "cell_type": "code",
   "execution_count": null,
   "metadata": {},
   "outputs": [],
   "source": [
    "import numpy\n",
    "import matplotlib.pyplot as plt\n",
    "import pandas\n",
    "import math\n",
    "from keras.models import Sequential\n",
    "from keras.layers import Dense\n",
    "from keras.layers import LSTM, RNN, GRU, SimpleRNN\n",
    "from keras.layers import Dropout  \n",
    "from sklearn.preprocessing import MinMaxScaler\n",
    "from sklearn.metrics import mean_squared_error"
   ]
  },
  {
   "cell_type": "code",
   "execution_count": null,
   "metadata": {},
   "outputs": [],
   "source": [
    "data = data[['Date','PV Production (kW)']]\n",
    "data.head()"
   ]
  },
  {
   "cell_type": "code",
   "execution_count": null,
   "metadata": {},
   "outputs": [],
   "source": [
    "minVal = min(data['PV Production (kW)']);\n",
    "maxVal = max(data['PV Production (kW)']);\n",
    "v = data['PV Production (kW)'].tolist()\n",
    "norm=[]\n",
    "for x in v:\n",
    "    x= (x- minVal) / ( maxVal - minVal )\n",
    "    norm.append(x)\n",
    "data['PV Production (kW)'] = norm\n",
    "data.head()"
   ]
  },
  {
   "cell_type": "code",
   "execution_count": null,
   "metadata": {},
   "outputs": [],
   "source": [
    "data.rename(columns={'PV Production (kW)':'PV'}, inplace=True)"
   ]
  },
  {
   "cell_type": "code",
   "execution_count": null,
   "metadata": {},
   "outputs": [],
   "source": [
    "for obs in range(1,6):\n",
    "    data[\"T_\" + str(obs)] = data.PV.shift(obs)\n",
    "data.fillna(0.00,inplace=True)"
   ]
  },
  {
   "cell_type": "code",
   "execution_count": null,
   "metadata": {},
   "outputs": [],
   "source": [
    "data.head()"
   ]
  },
  {
   "cell_type": "code",
   "execution_count": null,
   "metadata": {},
   "outputs": [],
   "source": [
    "training_data = data[data.Date < pd.to_datetime(\"10/01/2017\")]\n",
    "\n",
    "val_mask = (data.Date >= pd.to_datetime(\"10/01/2017\")) & (data.Date < pd.to_datetime(\"11/01/2017\"))\n",
    "val_data = data.loc[val_mask]\n",
    "\n",
    "test_data = data[data.Date >= pd.to_datetime(\"11/01/2017\")]\n",
    "\n",
    "training_data = training_data.drop([\"Date\"],axis=1)\n",
    "val_data = val_data.drop([\"Date\"],axis=1)\n",
    "test_data = test_data.drop([\"Date\"],axis=1)\n",
    "training_data.tail(3)"
   ]
  },
  {
   "cell_type": "code",
   "execution_count": null,
   "metadata": {},
   "outputs": [],
   "source": [
    "x_train = training_data.drop([\"PV\"],axis=1)\n",
    "y_train = training_data.PV\n",
    "\n",
    "x_val = val_data.drop([\"PV\"],axis=1)\n",
    "y_val = val_data.PV\n",
    "\n",
    "x_test = test_data.drop([\"PV\"],axis=1)\n",
    "y_test = test_data.PV"
   ]
  },
  {
   "cell_type": "code",
   "execution_count": null,
   "metadata": {},
   "outputs": [],
   "source": [
    "model_lstm = Sequential()\n",
    "model_lstm.add(LSTM(4, return_sequences=False, input_shape=(1,5)))\n",
    "model_lstm.add(Dropout(0.1))  \n",
    "\n",
    "#model_k.add(LSTM(6, return_sequences=False))  \n",
    "#model_k.add(Dropout(0.1))  \n",
    "\n",
    "model_lstm.add(Dense(1))\n",
    "model_lstm.compile(loss='mean_squared_error', optimizer='adam')"
   ]
  },
  {
   "cell_type": "code",
   "execution_count": null,
   "metadata": {},
   "outputs": [],
   "source": [
    "x_train_reshaped = x_train.values.reshape((x_train.shape[0], 1, x_train.shape[1]))\n",
    "x_val_reshaped = x_val.values.reshape((x_val.shape[0], 1, x_val.shape[1]))\n",
    "x_test_reshaped = x_test.values.reshape((x_test.shape[0], 1, x_test.shape[1]))"
   ]
  },
  {
   "cell_type": "code",
   "execution_count": null,
   "metadata": {},
   "outputs": [],
   "source": [
    "historyLSTM = model_lstm.fit(x_train_reshaped, y_train, validation_data=(x_val_reshaped, y_val), epochs=20, batch_size=64, verbose=2)"
   ]
  },
  {
   "cell_type": "code",
   "execution_count": null,
   "metadata": {},
   "outputs": [],
   "source": [
    "plt.plot(historyLSTM.history['loss'], label='train', color = 'r')\n",
    "plt.plot(historyLSTM.history['val_loss'], label='val')\n",
    "plt.ylabel('Loss',fontsize=12)\n",
    "plt.xlabel('Epoch',fontsize=12)\n",
    "plt.legend()"
   ]
  },
  {
   "cell_type": "code",
   "execution_count": null,
   "metadata": {},
   "outputs": [],
   "source": [
    "resLSTM = model_lstm.predict(x_test_reshaped)\n",
    "test_data[\"DL_PRED\"] = resLSTM\n",
    "from numpy import sqrt\n",
    "sqrt(mean_squared_error(test_data.PV,test_data.DL_PRED))"
   ]
  },
  {
   "cell_type": "code",
   "execution_count": null,
   "metadata": {},
   "outputs": [],
   "source": [
    "model_g = Sequential()\n",
    "model_g.add(GRU(4, return_sequences=False, input_shape=(1,5)))\n",
    "model_g.add(Dropout(0.1))  \n",
    "\n",
    "#model_k.add(LSTM(6, return_sequences=False))  \n",
    "#model_k.add(Dropout(0.1))  \n",
    "\n",
    "model_g.add(Dense(1))\n",
    "model_g.compile(loss='mean_squared_error', optimizer='adam')"
   ]
  },
  {
   "cell_type": "code",
   "execution_count": null,
   "metadata": {},
   "outputs": [],
   "source": [
    "history_gru = model_g.fit(x_train_reshaped, y_train, validation_data=(x_val_reshaped, y_val), epochs=20, batch_size=64, verbose=2)"
   ]
  },
  {
   "cell_type": "code",
   "execution_count": null,
   "metadata": {},
   "outputs": [],
   "source": [
    "plt.plot(history_gru.history['loss'], label='train', color = 'r')\n",
    "plt.plot(history_gru.history['val_loss'], label='val')\n",
    "plt.ylabel('Loss',fontsize=12)\n",
    "plt.xlabel('Epoch',fontsize=12)\n",
    "plt.legend()"
   ]
  },
  {
   "cell_type": "code",
   "execution_count": null,
   "metadata": {},
   "outputs": [],
   "source": [
    "resGRU = model_g.predict(x_test_reshaped)\n",
    "test_data[\"DL_PRED_GRU\"] = resGRU\n",
    "from numpy import sqrt\n",
    "sqrt(mean_squared_error(test_data.PV,test_data.DL_PRED_GRU))"
   ]
  },
  {
   "cell_type": "code",
   "execution_count": null,
   "metadata": {},
   "outputs": [],
   "source": [
    "model_rnn = Sequential()\n",
    "model_rnn.add(SimpleRNN(4, return_sequences=False, input_shape=(1,5)))\n",
    "model_rnn.add(Dropout(0.1))  \n",
    "\n",
    "#model_k.add(LSTM(6, return_sequences=False))  \n",
    "#model_k.add(Dropout(0.1))  \n",
    "\n",
    "model_rnn.add(Dense(1))\n",
    "model_rnn.compile(loss='mean_squared_error', optimizer='adam')"
   ]
  },
  {
   "cell_type": "code",
   "execution_count": null,
   "metadata": {},
   "outputs": [],
   "source": [
    "history_rnn = model_rnn.fit(x_train_reshaped, y_train, validation_data=(x_val_reshaped, y_val), epochs=20, batch_size=64, verbose=2)"
   ]
  },
  {
   "cell_type": "code",
   "execution_count": null,
   "metadata": {},
   "outputs": [],
   "source": [
    "plt.plot(history_rnn.history['loss'], label='train', color = 'r')\n",
    "plt.plot(history_rnn.history['val_loss'], label='val')\n",
    "plt.ylabel('Loss',fontsize=12)\n",
    "plt.xlabel('Epoch',fontsize=12)\n",
    "plt.legend()"
   ]
  },
  {
   "cell_type": "code",
   "execution_count": null,
   "metadata": {},
   "outputs": [],
   "source": [
    "res_rnn = model_rnn.predict(x_test_reshaped)\n",
    "test_data[\"DL_PRED_RNN\"] = res_rnn\n",
    "sqrt(mean_squared_error(test_data.PV,test_data.DL_PRED_RNN))"
   ]
  },
  {
   "cell_type": "code",
   "execution_count": null,
   "metadata": {},
   "outputs": [],
   "source": [
    "plt.plot(history_rnn.history['loss'], label='trainRNN', color = '#FF0000')\n",
    "plt.plot(history_rnn.history['val_loss'], label='valRNN', color = '#FF0000')\n",
    "plt.plot(historyLSTM.history['loss'], label='trainLSTM', color = '#09CF00')\n",
    "plt.plot(historyLSTM.history['val_loss'], label='valLSTM', color = '#09CF00')\n",
    "plt.plot(history_gru.history['loss'], label='trainGRU', color = '#0064FF')\n",
    "plt.plot(history_gru.history['val_loss'], label='valGRU', color = '#0064FF')\n",
    "plt.ylabel('Loss',fontsize=12)\n",
    "plt.xlabel('Epoch',fontsize=12)\n",
    "plt.legend()"
   ]
  },
  {
   "cell_type": "code",
   "execution_count": null,
   "metadata": {},
   "outputs": [],
   "source": [
    "plt.figure(figsize=(20,10))\n",
    "#test_data_withDates=data[(data['Date']>=datetime.date(2017,11,1))]\n",
    "#test_data_xaxis = test_data_withDates['Date']\n",
    "plt.tick_params(\n",
    "    axis='x',          # changes apply to the x-axis\n",
    "    which='both',      # both major and minor ticks are affected\n",
    "    bottom=False,      # ticks along the bottom edge are off\n",
    "    top=False,         # ticks along the top edge are off\n",
    "    labelbottom=False) # labels along the bottom edge are off\n",
    "\n",
    "plt.plot(test_data['DL_PRED_GRU'],'r', label='Prediction')\n",
    "plt.plot(test_data['PV'],'g')\n",
    "plt.ylabel('Energy (Normalized)',fontsize=12)\n",
    "plt.xlabel('Date: November & December 2017',fontsize=12)\n",
    "plt.legend()"
   ]
  },
  {
   "cell_type": "code",
   "execution_count": null,
   "metadata": {},
   "outputs": [],
   "source": [
    "test_data['PV'].mean()"
   ]
  },
  {
   "cell_type": "code",
   "execution_count": null,
   "metadata": {},
   "outputs": [],
   "source": [
    "x = test_data['PV']\n",
    "y = test_data[\"DL_PRED_GRU\"]\n",
    "\n",
    "fig,ax = plt.subplots()\n",
    "ax.scatter(y, x)\n",
    "ax.plot([y.min(), y.max()], [y.min(), y.max()], 'r', lw=2)\n",
    "ax.set_xlabel('Measured')\n",
    "ax.set_ylabel('Predicted')\n",
    "fig.show()"
   ]
  },
  {
   "cell_type": "code",
   "execution_count": null,
   "metadata": {},
   "outputs": [],
   "source": []
  }
 ],
 "metadata": {
  "kernelspec": {
   "display_name": "Python 3",
   "language": "python",
   "name": "python3"
  },
  "language_info": {
   "codemirror_mode": {
    "name": "ipython",
    "version": 3
   },
   "file_extension": ".py",
   "mimetype": "text/x-python",
   "name": "python",
   "nbconvert_exporter": "python",
   "pygments_lexer": "ipython3",
   "version": "3.7.3"
  }
 },
 "nbformat": 4,
 "nbformat_minor": 2
}
