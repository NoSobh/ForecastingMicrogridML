{
 "cells": [
  {
   "cell_type": "code",
   "execution_count": 1,
   "metadata": {},
   "outputs": [],
   "source": [
    "import numpy as np\n",
    "import matplotlib.pyplot as plt\n",
    "import pandas as pd\n",
    "import xlrd\n",
    "import datetime\n",
    "from datetime import timedelta"
   ]
  },
  {
   "cell_type": "code",
   "execution_count": 2,
   "metadata": {},
   "outputs": [],
   "source": [
    "data = pd.read_excel('Data.xlsx')\n",
    "#data.head()"
   ]
  },
  {
   "cell_type": "code",
   "execution_count": 3,
   "metadata": {},
   "outputs": [
    {
     "name": "stdout",
     "output_type": "stream",
     "text": [
      "Total rows: 8760\n"
     ]
    }
   ],
   "source": [
    "entries = \"Total rows: {0}\".format(len(data))\n",
    "print (entries)"
   ]
  },
  {
   "cell_type": "code",
   "execution_count": 4,
   "metadata": {},
   "outputs": [
    {
     "data": {
      "text/plain": [
       "No                                     int64\n",
       "Date                          datetime64[ns]\n",
       "Hour                                   int64\n",
       "Load                                 float64\n",
       "Wind Speed (m/s)                     float64\n",
       "PV Production (kW)                   float64\n",
       "Total Wind Production (kW)           float64\n",
       "dtype: object"
      ]
     },
     "execution_count": 4,
     "metadata": {},
     "output_type": "execute_result"
    }
   ],
   "source": [
    "data.dtypes"
   ]
  },
  {
   "cell_type": "code",
   "execution_count": 5,
   "metadata": {},
   "outputs": [
    {
     "data": {
      "text/html": [
       "<div>\n",
       "<style scoped>\n",
       "    .dataframe tbody tr th:only-of-type {\n",
       "        vertical-align: middle;\n",
       "    }\n",
       "\n",
       "    .dataframe tbody tr th {\n",
       "        vertical-align: top;\n",
       "    }\n",
       "\n",
       "    .dataframe thead th {\n",
       "        text-align: right;\n",
       "    }\n",
       "</style>\n",
       "<table border=\"1\" class=\"dataframe\">\n",
       "  <thead>\n",
       "    <tr style=\"text-align: right;\">\n",
       "      <th></th>\n",
       "      <th>No</th>\n",
       "      <th>Hour</th>\n",
       "      <th>Load</th>\n",
       "      <th>Wind Speed (m/s)</th>\n",
       "      <th>PV Production (kW)</th>\n",
       "      <th>Total Wind Production (kW)</th>\n",
       "    </tr>\n",
       "  </thead>\n",
       "  <tbody>\n",
       "    <tr>\n",
       "      <th>count</th>\n",
       "      <td>8760.000000</td>\n",
       "      <td>8760.000000</td>\n",
       "      <td>8760.000000</td>\n",
       "      <td>8760.000000</td>\n",
       "      <td>8760.000000</td>\n",
       "      <td>8760.000000</td>\n",
       "    </tr>\n",
       "    <tr>\n",
       "      <th>mean</th>\n",
       "      <td>4380.500000</td>\n",
       "      <td>11.500000</td>\n",
       "      <td>1206.993747</td>\n",
       "      <td>5.955160</td>\n",
       "      <td>465.103723</td>\n",
       "      <td>509.818825</td>\n",
       "    </tr>\n",
       "    <tr>\n",
       "      <th>std</th>\n",
       "      <td>2528.938512</td>\n",
       "      <td>6.922582</td>\n",
       "      <td>273.366649</td>\n",
       "      <td>0.895772</td>\n",
       "      <td>772.804194</td>\n",
       "      <td>298.686848</td>\n",
       "    </tr>\n",
       "    <tr>\n",
       "      <th>min</th>\n",
       "      <td>1.000000</td>\n",
       "      <td>0.000000</td>\n",
       "      <td>829.756000</td>\n",
       "      <td>3.266542</td>\n",
       "      <td>0.000000</td>\n",
       "      <td>11.059908</td>\n",
       "    </tr>\n",
       "    <tr>\n",
       "      <th>25%</th>\n",
       "      <td>2190.750000</td>\n",
       "      <td>5.750000</td>\n",
       "      <td>1005.100000</td>\n",
       "      <td>5.271204</td>\n",
       "      <td>0.000000</td>\n",
       "      <td>298.617511</td>\n",
       "    </tr>\n",
       "    <tr>\n",
       "      <th>50%</th>\n",
       "      <td>4380.500000</td>\n",
       "      <td>11.500000</td>\n",
       "      <td>1142.628000</td>\n",
       "      <td>5.942433</td>\n",
       "      <td>12.236907</td>\n",
       "      <td>442.396313</td>\n",
       "    </tr>\n",
       "    <tr>\n",
       "      <th>75%</th>\n",
       "      <td>6570.250000</td>\n",
       "      <td>17.250000</td>\n",
       "      <td>1317.428000</td>\n",
       "      <td>6.665088</td>\n",
       "      <td>617.963779</td>\n",
       "      <td>713.364055</td>\n",
       "    </tr>\n",
       "    <tr>\n",
       "      <th>max</th>\n",
       "      <td>8760.000000</td>\n",
       "      <td>23.000000</td>\n",
       "      <td>2643.228000</td>\n",
       "      <td>8.646830</td>\n",
       "      <td>3505.873715</td>\n",
       "      <td>1609.216590</td>\n",
       "    </tr>\n",
       "  </tbody>\n",
       "</table>\n",
       "</div>"
      ],
      "text/plain": [
       "                No         Hour         Load  Wind Speed (m/s)  \\\n",
       "count  8760.000000  8760.000000  8760.000000       8760.000000   \n",
       "mean   4380.500000    11.500000  1206.993747          5.955160   \n",
       "std    2528.938512     6.922582   273.366649          0.895772   \n",
       "min       1.000000     0.000000   829.756000          3.266542   \n",
       "25%    2190.750000     5.750000  1005.100000          5.271204   \n",
       "50%    4380.500000    11.500000  1142.628000          5.942433   \n",
       "75%    6570.250000    17.250000  1317.428000          6.665088   \n",
       "max    8760.000000    23.000000  2643.228000          8.646830   \n",
       "\n",
       "       PV Production (kW)  Total Wind Production (kW)  \n",
       "count         8760.000000                 8760.000000  \n",
       "mean           465.103723                  509.818825  \n",
       "std            772.804194                  298.686848  \n",
       "min              0.000000                   11.059908  \n",
       "25%              0.000000                  298.617511  \n",
       "50%             12.236907                  442.396313  \n",
       "75%            617.963779                  713.364055  \n",
       "max           3505.873715                 1609.216590  "
      ]
     },
     "execution_count": 5,
     "metadata": {},
     "output_type": "execute_result"
    }
   ],
   "source": [
    "data.describe()"
   ]
  },
  {
   "cell_type": "code",
   "execution_count": 6,
   "metadata": {},
   "outputs": [],
   "source": [
    "#decomposition: anual, monthyly, weekly, daily\n",
    "#correlation\n",
    "#visualizations"
   ]
  },
  {
   "cell_type": "code",
   "execution_count": 7,
   "metadata": {},
   "outputs": [
    {
     "name": "stdout",
     "output_type": "stream",
     "text": [
      "<class 'pandas.core.frame.DataFrame'>\n",
      "RangeIndex: 8760 entries, 0 to 8759\n",
      "Data columns (total 7 columns):\n",
      "No                            8760 non-null int64\n",
      "Date                          8760 non-null datetime64[ns]\n",
      "Hour                          8760 non-null int64\n",
      "Load                          8760 non-null float64\n",
      "Wind Speed (m/s)              8760 non-null float64\n",
      "PV Production (kW)            8760 non-null float64\n",
      "Total Wind Production (kW)    8760 non-null float64\n",
      "dtypes: datetime64[ns](1), float64(4), int64(2)\n",
      "memory usage: 479.1 KB\n"
     ]
    }
   ],
   "source": [
    "data.info()"
   ]
  },
  {
   "cell_type": "code",
   "execution_count": 8,
   "metadata": {},
   "outputs": [
    {
     "name": "stderr",
     "output_type": "stream",
     "text": [
      "C:\\ProgramData\\Anaconda3\\lib\\site-packages\\pandas\\plotting\\_converter.py:129: FutureWarning: Using an implicitly registered datetime converter for a matplotlib plotting method. The converter was registered by pandas on import. Future versions of pandas will require you to explicitly register matplotlib converters.\n",
      "\n",
      "To register the converters:\n",
      "\t>>> from pandas.plotting import register_matplotlib_converters\n",
      "\t>>> register_matplotlib_converters()\n",
      "  warnings.warn(msg, FutureWarning)\n"
     ]
    },
    {
     "data": {
      "text/plain": [
       "[<matplotlib.lines.Line2D at 0x2133229ac18>]"
      ]
     },
     "execution_count": 8,
     "metadata": {},
     "output_type": "execute_result"
    },
    {
     "data": {
      "image/png": "[encoded data removed]",
      "text/plain": [
       "<Figure size 1440x720 with 1 Axes>"
      ]
     },
     "metadata": {
      "needs_background": "light"
     },
     "output_type": "display_data"
    }
   ],
   "source": [
    "x = data[['Date']]\n",
    "y = data[['Load']].rolling(24).mean()\n",
    "\n",
    "plt.figure(figsize=(20,10))\n",
    "plt.xlabel('Date',fontsize=18)\n",
    "plt.ylabel('Demand (KWh)',fontsize=18)\n",
    "plt.plot(x,y,linewidth=3)\n",
    "#plt.show()"
   ]
  },
  {
   "cell_type": "code",
   "execution_count": null,
   "metadata": {},
   "outputs": [],
   "source": [
    "x = data[['Date']]\n",
    "y = data[['Load']].diff(24)\n",
    "\n",
    "plt.figure(figsize=(20,10))\n",
    "plt.xlabel('Date',fontsize=18)\n",
    "plt.ylabel('Demand (KWh)',fontsize=18)\n",
    "plt.plot(x,y,linewidth=3)\n",
    "#plt.show()"
   ]
  },
  {
   "cell_type": "code",
   "execution_count": null,
   "metadata": {},
   "outputs": [],
   "source": [
    "x = data[['Date']]\n",
    "y = data[['Load']]\n",
    "\n",
    "plt.figure(figsize=(20,10))\n",
    "plt.xlabel('Date',fontsize=18)\n",
    "plt.ylabel('Demand (KWh)',fontsize=18)\n",
    "plt.plot(x,y,linewidth=2)\n",
    "#plt.show()"
   ]
  },
  {
   "cell_type": "code",
   "execution_count": null,
   "metadata": {},
   "outputs": [],
   "source": [
    "from pandas.plotting import autocorrelation_plot\n",
    "from matplotlib.pyplot import figure\n",
    "plt.figure(linewidth=3, figsize=(20,15))\n",
    "autocorrelation_plot(data[['Load']]).plot();\n",
    "# Autocorrelation plots are often used for checking randomness in time series. This is done by computing autocorrelations for data values at varying time lags. If time series is random, such autocorrelations should be near zero for any and all time-lag separations. If time series is non-random then one or more of the autocorrelations will be significantly non-zero. The horizontal lines displayed in the plot correspond to 95% and 99% confidence bands. The dashed line is 99% confidence band. See the Wikipedia entry for more about autocorrelation plots.\n",
    "# https://machinelearningmastery.com/time-series-data-visualization-with-python/"
   ]
  },
  {
   "cell_type": "code",
   "execution_count": null,
   "metadata": {},
   "outputs": [],
   "source": [
    "from matplotlib import pyplot\n",
    "series = data['Load']\n",
    "data['Load'].hist(linewidth=2,figsize=(20,15))\n",
    "plt.ylabel('Distribution',fontsize=18)\n",
    "plt.xlabel('Demand (KWh)',fontsize=18)\n",
    "pyplot.show()\n",
    "#A histogram groups values into bins, and the frequency or count of observations in each bin can provide insight into the underlying distribution of the observations.\n",
    "# Running the example shows a distribution that looks strongly Gaussian. The plotting function automatically selects the size of the bins based on the spread of values in the data.\n"
   ]
  },
  {
   "cell_type": "code",
   "execution_count": null,
   "metadata": {},
   "outputs": [],
   "source": [
    "series.plot(kind='kde',linewidth=2,figsize=(20,15))\n",
    "plt.ylabel('Density',fontsize=18)\n",
    "plt.xlabel('Demand (KWh)',fontsize=18)\n",
    "pyplot.show()\n",
    "# We can get a better idea of the shape of the distribution of observations by using a density plot. This is like the histogram, except a function is used to fit the distribution of observations and a nice, smooth line is used to summarize this distribution.\n",
    "# Running the example creates a plot that provides a clearer summary of the distribution of observations. We can see that perhaps the distribution is a little asymmetrical and perhaps a little pointy to be Gaussian.\n"
   ]
  },
  {
   "cell_type": "code",
   "execution_count": null,
   "metadata": {},
   "outputs": [],
   "source": [
    "from pandas.plotting import lag_plot\n",
    "plt.figure(linewidth=2, figsize=(20,15))\n",
    "lag_plot(series)\n",
    "pyplot.show()\n",
    "#Time series modeling assumes a relationship between an observation and the previous observation. Previous observations in a time series are called lags, with the observation at the previous time step called lag1, the observation at two time steps ago lag2, and so on. A useful type of plot to explore the relationship between each observation and a lag of that observation is called the scatter plot. Pandas has a built-in function for exactly this called the lag plot. It plots the observation at time t on the x-axis and the lag1 observation (t-1) on the y-axis. If the points cluster along a diagonal line from the bottom-left to the top-right of the plot, it suggests a positive correlation relationship. If the points cluster along a diagonal line from the top-left to the bottom-right, it suggests a negative correlation relationship. Either relationship is good as they can be modeled. More points tighter in to the diagonal line suggests a stronger relationship and more spread from the line suggests a weaker relationship. A ball in the middle or a spread across the plot suggests a weak or no relationship."
   ]
  },
  {
   "cell_type": "code",
   "execution_count": null,
   "metadata": {},
   "outputs": [],
   "source": [
    "#from statsmodels.tsa.seasonal import seasonal_decompose\n",
    "#from pylab import rcParams\n",
    "#rcParams['figure.figsize'] = 14, 15\n",
    "#series = data['Load'].dropna()\n",
    "#result = seasonal_decompose(series, model='multiplicative', freq=365)###\n",
    "\n",
    "#result.plot()\n",
    "#pyplot.show()"
   ]
  },
  {
   "cell_type": "code",
   "execution_count": null,
   "metadata": {},
   "outputs": [],
   "source": [
    "#next: add features and plot accordingly\n",
    "# after next: group"
   ]
  },
  {
   "cell_type": "code",
   "execution_count": null,
   "metadata": {},
   "outputs": [],
   "source": [
    "data['Load'].max()\n"
   ]
  },
  {
   "cell_type": "code",
   "execution_count": null,
   "metadata": {},
   "outputs": [],
   "source": [
    "data['Load'].min()\n"
   ]
  },
  {
   "cell_type": "code",
   "execution_count": null,
   "metadata": {},
   "outputs": [],
   "source": [
    "test_data['Load'].mean()"
   ]
  },
  {
   "cell_type": "code",
   "execution_count": null,
   "metadata": {},
   "outputs": [],
   "source": []
  }
 ],
 "metadata": {
  "kernelspec": {
   "display_name": "Python 3",
   "language": "python",
   "name": "python3"
  },
  "language_info": {
   "codemirror_mode": {
    "name": "ipython",
    "version": 3
   },
   "file_extension": ".py",
   "mimetype": "text/x-python",
   "name": "python",
   "nbconvert_exporter": "python",
   "pygments_lexer": "ipython3",
   "version": "3.7.3"
  }
 },
 "nbformat": 4,
 "nbformat_minor": 2
}
