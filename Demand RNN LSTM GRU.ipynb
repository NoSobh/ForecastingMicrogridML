{
 "cells": [
  {
   "cell_type": "code",
   "execution_count": 1,
   "metadata": {},
   "outputs": [],
   "source": [
    "import numpy as np\n",
    "import matplotlib.pyplot as plt\n",
    "import pandas as pd\n",
    "import xlrd\n",
    "import datetime\n",
    "from datetime import timedelta"
   ]
  },
  {
   "cell_type": "code",
   "execution_count": 2,
   "metadata": {},
   "outputs": [],
   "source": [
    "data = pd.read_excel('Data.xlsx')\n",
    "#data.head()"
   ]
  },
  {
   "cell_type": "code",
   "execution_count": 3,
   "metadata": {},
   "outputs": [
    {
     "name": "stdout",
     "output_type": "stream",
     "text": [
      "Total rows: 8760\n"
     ]
    }
   ],
   "source": [
    "entries = \"Total rows: {0}\".format(len(data))\n",
    "print (entries)"
   ]
  },
  {
   "cell_type": "code",
   "execution_count": 4,
   "metadata": {},
   "outputs": [
    {
     "data": {
      "text/plain": [
       "No                                     int64\n",
       "Date                          datetime64[ns]\n",
       "Hour                                   int64\n",
       "Load                                 float64\n",
       "Wind Speed (m/s)                     float64\n",
       "PV Production (kW)                   float64\n",
       "Total Wind Production (kW)           float64\n",
       "dtype: object"
      ]
     },
     "execution_count": 4,
     "metadata": {},
     "output_type": "execute_result"
    }
   ],
   "source": [
    "data.dtypes"
   ]
  },
  {
   "cell_type": "code",
   "execution_count": 5,
   "metadata": {},
   "outputs": [
    {
     "data": {
      "text/html": [
       "<div>\n",
       "<style scoped>\n",
       "    .dataframe tbody tr th:only-of-type {\n",
       "        vertical-align: middle;\n",
       "    }\n",
       "\n",
       "    .dataframe tbody tr th {\n",
       "        vertical-align: top;\n",
       "    }\n",
       "\n",
       "    .dataframe thead th {\n",
       "        text-align: right;\n",
       "    }\n",
       "</style>\n",
       "<table border=\"1\" class=\"dataframe\">\n",
       "  <thead>\n",
       "    <tr style=\"text-align: right;\">\n",
       "      <th></th>\n",
       "      <th>No</th>\n",
       "      <th>Hour</th>\n",
       "      <th>Load</th>\n",
       "      <th>Wind Speed (m/s)</th>\n",
       "      <th>PV Production (kW)</th>\n",
       "      <th>Total Wind Production (kW)</th>\n",
       "    </tr>\n",
       "  </thead>\n",
       "  <tbody>\n",
       "    <tr>\n",
       "      <th>count</th>\n",
       "      <td>8760.000000</td>\n",
       "      <td>8760.000000</td>\n",
       "      <td>8760.000000</td>\n",
       "      <td>8760.000000</td>\n",
       "      <td>8760.000000</td>\n",
       "      <td>8760.000000</td>\n",
       "    </tr>\n",
       "    <tr>\n",
       "      <th>mean</th>\n",
       "      <td>4380.500000</td>\n",
       "      <td>11.500000</td>\n",
       "      <td>1206.993747</td>\n",
       "      <td>5.955160</td>\n",
       "      <td>465.103723</td>\n",
       "      <td>509.818825</td>\n",
       "    </tr>\n",
       "    <tr>\n",
       "      <th>std</th>\n",
       "      <td>2528.938512</td>\n",
       "      <td>6.922582</td>\n",
       "      <td>273.366649</td>\n",
       "      <td>0.895772</td>\n",
       "      <td>772.804194</td>\n",
       "      <td>298.686848</td>\n",
       "    </tr>\n",
       "    <tr>\n",
       "      <th>min</th>\n",
       "      <td>1.000000</td>\n",
       "      <td>0.000000</td>\n",
       "      <td>829.756000</td>\n",
       "      <td>3.266542</td>\n",
       "      <td>0.000000</td>\n",
       "      <td>11.059908</td>\n",
       "    </tr>\n",
       "    <tr>\n",
       "      <th>25%</th>\n",
       "      <td>2190.750000</td>\n",
       "      <td>5.750000</td>\n",
       "      <td>1005.100000</td>\n",
       "      <td>5.271204</td>\n",
       "      <td>0.000000</td>\n",
       "      <td>298.617511</td>\n",
       "    </tr>\n",
       "    <tr>\n",
       "      <th>50%</th>\n",
       "      <td>4380.500000</td>\n",
       "      <td>11.500000</td>\n",
       "      <td>1142.628000</td>\n",
       "      <td>5.942433</td>\n",
       "      <td>12.236907</td>\n",
       "      <td>442.396313</td>\n",
       "    </tr>\n",
       "    <tr>\n",
       "      <th>75%</th>\n",
       "      <td>6570.250000</td>\n",
       "      <td>17.250000</td>\n",
       "      <td>1317.428000</td>\n",
       "      <td>6.665088</td>\n",
       "      <td>617.963779</td>\n",
       "      <td>713.364055</td>\n",
       "    </tr>\n",
       "    <tr>\n",
       "      <th>max</th>\n",
       "      <td>8760.000000</td>\n",
       "      <td>23.000000</td>\n",
       "      <td>2643.228000</td>\n",
       "      <td>8.646830</td>\n",
       "      <td>3505.873715</td>\n",
       "      <td>1609.216590</td>\n",
       "    </tr>\n",
       "  </tbody>\n",
       "</table>\n",
       "</div>"
      ],
      "text/plain": [
       "                No         Hour         Load  Wind Speed (m/s)  \\\n",
       "count  8760.000000  8760.000000  8760.000000       8760.000000   \n",
       "mean   4380.500000    11.500000  1206.993747          5.955160   \n",
       "std    2528.938512     6.922582   273.366649          0.895772   \n",
       "min       1.000000     0.000000   829.756000          3.266542   \n",
       "25%    2190.750000     5.750000  1005.100000          5.271204   \n",
       "50%    4380.500000    11.500000  1142.628000          5.942433   \n",
       "75%    6570.250000    17.250000  1317.428000          6.665088   \n",
       "max    8760.000000    23.000000  2643.228000          8.646830   \n",
       "\n",
       "       PV Production (kW)  Total Wind Production (kW)  \n",
       "count         8760.000000                 8760.000000  \n",
       "mean           465.103723                  509.818825  \n",
       "std            772.804194                  298.686848  \n",
       "min              0.000000                   11.059908  \n",
       "25%              0.000000                  298.617511  \n",
       "50%             12.236907                  442.396313  \n",
       "75%            617.963779                  713.364055  \n",
       "max           3505.873715                 1609.216590  "
      ]
     },
     "execution_count": 5,
     "metadata": {},
     "output_type": "execute_result"
    }
   ],
   "source": [
    "data.describe()"
   ]
  },
  {
   "cell_type": "code",
   "execution_count": 6,
   "metadata": {},
   "outputs": [
    {
     "data": {
      "text/plain": [
       "No                                     int64\n",
       "Date                          datetime64[ns]\n",
       "Hour                                   int64\n",
       "Load                                 float64\n",
       "Wind Speed (m/s)                     float64\n",
       "PV Production (kW)                   float64\n",
       "Total Wind Production (kW)           float64\n",
       "dtype: object"
      ]
     },
     "execution_count": 6,
     "metadata": {},
     "output_type": "execute_result"
    }
   ],
   "source": [
    "data.dtypes"
   ]
  },
  {
   "cell_type": "code",
   "execution_count": 7,
   "metadata": {},
   "outputs": [
    {
     "data": {
      "image/png": "[encoded data removed]",
      "text/plain": [
       "<Figure size 1296x648 with 1 Axes>"
      ]
     },
     "metadata": {
      "needs_background": "light"
     },
     "output_type": "display_data"
    }
   ],
   "source": [
    "plt.figure(figsize = (18,9))\n",
    "plt.plot(range(data.shape[0]),(data['Load']))\n",
    "plt.xticks(range(0,data.shape[0],500),data['Date'].loc[::500],rotation=45)\n",
    "plt.xlabel('Date',fontsize=18)\n",
    "plt.ylabel('Load',fontsize=18)\n",
    "plt.show()"
   ]
  },
  {
   "cell_type": "code",
   "execution_count": null,
   "metadata": {},
   "outputs": [],
   "source": [
    "data = pd.read_excel('Data.xlsx')\n",
    "from datetime import date\n",
    "\n",
    "data[\"DAY_TYPE\"] = data.Date.apply(lambda x: 1 if x.dayofweek > 5 else 0  )\n",
    "data[\"Day_Name\"] = data['Date'].dt.weekday_name\n",
    "\n",
    "from pandas.tseries.holiday import Holiday, AbstractHolidayCalendar\n",
    "class BelgianHolidaysCalendar(AbstractHolidayCalendar):\n",
    "    rules = [Holiday('NY', month=1, day=1),\n",
    "             Holiday('Easter', month=4, day=17),\n",
    "         Holiday('Labour day', month=5, day=1),\n",
    "         Holiday('Ascension day', month=5, day=25),\n",
    "         Holiday('White Monday day', month=6, day=5),\n",
    "             Holiday('Belgian National day', month=7, day=21),\n",
    "             Holiday('Assumption day', month=8, day=15),\n",
    "             Holiday('All Saints day', month=11, day=1),\n",
    "             Holiday('Armistice day', month=11, day=11),\n",
    "             Holiday('Xmas day', month=12, day=25)\n",
    "   ]\n",
    "    \n",
    "cal = BelgianHolidaysCalendar()\n",
    "holidays = cal.holidays(start = data.Date.min(), end = data.Date.max())\n",
    "data[\"IS_HOLIDAY\"] = data.Date.isin(holidays)\n",
    "data.IS_HOLIDAY = data.IS_HOLIDAY.astype(\"int\")\n",
    "data.head()"
   ]
  },
  {
   "cell_type": "code",
   "execution_count": null,
   "metadata": {},
   "outputs": [],
   "source": [
    "#data = data.set_index(['dts'], drop=True)\n",
    "#data1 = data[['DAY_TYPE', 'IS_HOLIDAY', 'Load']]\n",
    "#data = data.set_index(['Date'], drop=True)\n",
    "\n",
    "data = data[['Date','Load','DAY_TYPE', 'IS_HOLIDAY']]\n",
    "data.head()"
   ]
  },
  {
   "cell_type": "code",
   "execution_count": null,
   "metadata": {},
   "outputs": [],
   "source": [
    "import numpy\n",
    "import matplotlib.pyplot as plt\n",
    "import pandas\n",
    "import math\n",
    "from keras.models import Sequential\n",
    "from keras.layers import Dense\n",
    "from keras.layers import LSTM, RNN, GRU, SimpleRNN\n",
    "from keras.layers import Dropout  \n",
    "from sklearn.preprocessing import MinMaxScaler\n",
    "from sklearn.metrics import mean_squared_error"
   ]
  },
  {
   "cell_type": "code",
   "execution_count": null,
   "metadata": {},
   "outputs": [],
   "source": [
    "minVal = min(data['Load']);\n",
    "maxVal = max(data['Load']);\n",
    "v = data['Load'].tolist()\n",
    "norm=[]\n",
    "for x in v:\n",
    "    x= (x- minVal) / ( maxVal - minVal )\n",
    "    norm.append(x)\n",
    "data['Load'] = norm\n",
    "data.head()"
   ]
  },
  {
   "cell_type": "code",
   "execution_count": null,
   "metadata": {},
   "outputs": [],
   "source": [
    "data.tail()"
   ]
  },
  {
   "cell_type": "code",
   "execution_count": null,
   "metadata": {},
   "outputs": [],
   "source": [
    "for obs in range(1,49):\n",
    "    data[\"T_\" + str(obs)] = data.Load.shift(obs)\n",
    "data.fillna(0.00,inplace=True)\n"
   ]
  },
  {
   "cell_type": "code",
   "execution_count": null,
   "metadata": {},
   "outputs": [],
   "source": [
    "data.head()"
   ]
  },
  {
   "cell_type": "code",
   "execution_count": null,
   "metadata": {},
   "outputs": [],
   "source": [
    "training_data = data[data.Date < pd.to_datetime(\"10/01/2017\")]\n",
    "\n",
    "val_mask = (data.Date >= pd.to_datetime(\"10/01/2017\")) & (data.Date < pd.to_datetime(\"11/01/2017\"))\n",
    "val_data = data.loc[val_mask]\n",
    "\n",
    "test_data = data[data.Date >= pd.to_datetime(\"11/01/2017\")]\n",
    "\n",
    "training_data = training_data.drop([\"Date\"],axis=1)\n",
    "val_data = val_data.drop([\"Date\"],axis=1)\n",
    "test_data = test_data.drop([\"Date\"],axis=1)\n",
    "training_data.tail(3)"
   ]
  },
  {
   "cell_type": "code",
   "execution_count": null,
   "metadata": {},
   "outputs": [],
   "source": [
    "training_data.head(2)\n"
   ]
  },
  {
   "cell_type": "code",
   "execution_count": null,
   "metadata": {},
   "outputs": [],
   "source": [
    "x_train = training_data.drop([\"Load\"],axis=1)\n",
    "y_train = training_data.Load\n",
    "\n",
    "x_val = val_data.drop([\"Load\"],axis=1)\n",
    "y_val = val_data.Load\n",
    "\n",
    "x_test = test_data.drop([\"Load\"],axis=1)\n",
    "y_test = test_data.Load"
   ]
  },
  {
   "cell_type": "code",
   "execution_count": null,
   "metadata": {},
   "outputs": [],
   "source": [
    "#x_train"
   ]
  },
  {
   "cell_type": "code",
   "execution_count": null,
   "metadata": {},
   "outputs": [],
   "source": []
  },
  {
   "cell_type": "code",
   "execution_count": null,
   "metadata": {},
   "outputs": [],
   "source": []
  },
  {
   "cell_type": "code",
   "execution_count": null,
   "metadata": {},
   "outputs": [],
   "source": [
    "model_k = Sequential()\n",
    "model_k.add(LSTM(14, return_sequences=False, input_shape=(1,50)))\n",
    "model_k.add(Dropout(0.1))  \n",
    "\n",
    "#model_k.add(LSTM(6, return_sequences=False))  \n",
    "#model_k.add(Dropout(0.1))  \n",
    "\n",
    "model_k.add(Dense(1))\n",
    "model_k.compile(loss='mean_squared_error', optimizer='adam')"
   ]
  },
  {
   "cell_type": "code",
   "execution_count": null,
   "metadata": {},
   "outputs": [],
   "source": [
    "x_train_reshaped = x_train.values.reshape((x_train.shape[0], 1, x_train.shape[1]))\n",
    "x_val_reshaped = x_val.values.reshape((x_val.shape[0], 1, x_val.shape[1]))\n",
    "x_test_reshaped = x_test.values.reshape((x_test.shape[0], 1, x_test.shape[1]))"
   ]
  },
  {
   "cell_type": "code",
   "execution_count": null,
   "metadata": {},
   "outputs": [],
   "source": [
    "history = model_k.fit(x_train_reshaped, y_train, validation_data=(x_val_reshaped, y_val), epochs=20, batch_size=64, verbose=2)"
   ]
  },
  {
   "cell_type": "code",
   "execution_count": null,
   "metadata": {},
   "outputs": [],
   "source": [
    "plt.plot(history.history['loss'], label='train', color = 'r')\n",
    "plt.plot(history.history['val_loss'], label='val')\n",
    "plt.ylabel('Loss',fontsize=12)\n",
    "plt.xlabel('Epoch',fontsize=12)\n",
    "plt.legend()"
   ]
  },
  {
   "cell_type": "code",
   "execution_count": null,
   "metadata": {},
   "outputs": [],
   "source": [
    "res = model_k.predict(x_test_reshaped)"
   ]
  },
  {
   "cell_type": "code",
   "execution_count": null,
   "metadata": {},
   "outputs": [],
   "source": [
    "test_data[\"DL_PRED\"] = res"
   ]
  },
  {
   "cell_type": "code",
   "execution_count": null,
   "metadata": {},
   "outputs": [],
   "source": [
    "from sklearn.metrics import mean_squared_error\n",
    "from math import sqrt\n",
    "\n",
    "testLoadList = test_data.Load.values.tolist()\n",
    "testPredLoadList = test_data.DL_PRED.values.tolist()\n",
    "\n",
    "rmse = [0]*len(testLoadList)\n",
    "for i in range (0,len(testLoadList)):\n",
    "    rmse[i] = (testLoadList[i]-testPredLoadList[i])/testLoadList[i]\n",
    "test_data['rmse']=rmse\n",
    "\n",
    "from sklearn import datasets\n",
    "from sklearn.model_selection import cross_val_predict\n",
    "from sklearn import linear_model\n",
    "import matplotlib.pyplot as plt\n",
    "\n",
    "lr = linear_model.LinearRegression()\n",
    "x = test_data['Load']\n",
    "y = test_data[\"DL_PRED\"]\n",
    "\n",
    "fig,ax = plt.subplots()\n",
    "ax.scatter(y, x)\n",
    "ax.plot([y.min(), y.max()], [y.min(), y.max()], 'r', lw=2)\n",
    "ax.set_xlabel('Measured')\n",
    "ax.set_ylabel('Predicted')\n",
    "fig.show()\n"
   ]
  },
  {
   "cell_type": "code",
   "execution_count": null,
   "metadata": {},
   "outputs": [],
   "source": [
    "from scipy import interpolate\n",
    "\n",
    "plt.figure(figsize=(20,10))\n",
    "#test_data_withDates=data[(data['Date']>=datetime.date(2017,11,1))]\n",
    "#test_data_xaxis = test_data_withDates['Date']\n",
    "plt.tick_params(\n",
    "    axis='x',          # changes apply to the x-axis\n",
    "    which='both',      # both major and minor ticks are affected\n",
    "    bottom=False,      # ticks along the bottom edge are off\n",
    "    top=False,         # ticks along the top edge are off\n",
    "    labelbottom=False) # labels along the bottom edge are off\n",
    "\n",
    "plt.plot(test_data['DL_PRED'],'r', label='Prediction')\n",
    "plt.plot(test_data['Load'],'g')\n",
    "\n",
    "plt.ylabel('Energy (Normalized)',fontsize=12)\n",
    "plt.xlabel('Date: November & December 2017',fontsize=12)\n",
    "plt.legend()"
   ]
  },
  {
   "cell_type": "code",
   "execution_count": null,
   "metadata": {},
   "outputs": [],
   "source": [
    "from numpy import sqrt\n",
    "sqrt(mean_squared_error(test_data.Load,test_data.DL_PRED))"
   ]
  },
  {
   "cell_type": "code",
   "execution_count": null,
   "metadata": {},
   "outputs": [],
   "source": [
    "model_g = Sequential()\n",
    "model_g.add(GRU(14, return_sequences=False, input_shape=(1,50)))\n",
    "model_g.add(Dropout(0.1))  \n",
    "\n",
    "#model_k.add(LSTM(6, return_sequences=False))  \n",
    "#model_k.add(Dropout(0.1))  \n",
    "\n",
    "model_g.add(Dense(1))\n",
    "model_g.compile(loss='mean_squared_error', optimizer='adam')"
   ]
  },
  {
   "cell_type": "code",
   "execution_count": null,
   "metadata": {},
   "outputs": [],
   "source": [
    "history_gru = model_g.fit(x_train_reshaped, y_train, validation_data=(x_val_reshaped, y_val), epochs=20, batch_size=64, verbose=2)"
   ]
  },
  {
   "cell_type": "code",
   "execution_count": null,
   "metadata": {},
   "outputs": [],
   "source": [
    "plt.plot(history_gru.history['loss'], label='train', color = 'r')\n",
    "plt.plot(history_gru.history['val_loss'], label='val')\n",
    "plt.ylabel('Loss',fontsize=12)\n",
    "plt.xlabel('Epoch',fontsize=12)\n",
    "plt.legend()"
   ]
  },
  {
   "cell_type": "code",
   "execution_count": null,
   "metadata": {},
   "outputs": [],
   "source": [
    "res_gru = model_g.predict(x_test_reshaped)"
   ]
  },
  {
   "cell_type": "code",
   "execution_count": null,
   "metadata": {},
   "outputs": [],
   "source": [
    "test_data[\"DL_PRED_GRU\"] = res_gru\n",
    "x = test_data['Load']\n",
    "y = test_data[\"DL_PRED_GRU\"]\n",
    "\n",
    "fig,ax = plt.subplots()\n",
    "ax.scatter(y, x)\n",
    "ax.plot([y.min(), y.max()], [y.min(), y.max()], 'r', lw=2)\n",
    "ax.set_xlabel('Measured')\n",
    "ax.set_ylabel('Predicted')\n",
    "fig.show()"
   ]
  },
  {
   "cell_type": "code",
   "execution_count": null,
   "metadata": {},
   "outputs": [],
   "source": [
    "plt.figure(figsize=(20,10))\n",
    "#test_data_withDates=data[(data['Date']>=datetime.date(2017,11,1))]\n",
    "#test_data_xaxis = test_data_withDates['Date']\n",
    "plt.tick_params(\n",
    "    axis='x',          # changes apply to the x-axis\n",
    "    which='both',      # both major and minor ticks are affected\n",
    "    bottom=False,      # ticks along the bottom edge are off\n",
    "    top=False,         # ticks along the top edge are off\n",
    "    labelbottom=False) # labels along the bottom edge are off\n",
    "\n",
    "plt.plot(test_data['DL_PRED_GRU'],'m')\n",
    "plt.plot(test_data['Load'],'g')\n",
    "plt.legend()"
   ]
  },
  {
   "cell_type": "code",
   "execution_count": null,
   "metadata": {},
   "outputs": [],
   "source": [
    "sqrt(mean_squared_error(test_data.Load,test_data.DL_PRED_GRU))"
   ]
  },
  {
   "cell_type": "code",
   "execution_count": null,
   "metadata": {},
   "outputs": [],
   "source": [
    "( maxVal - minVal ) * 0.028088220676590434 + minVal\n"
   ]
  },
  {
   "cell_type": "code",
   "execution_count": null,
   "metadata": {},
   "outputs": [],
   "source": [
    "model_rnn = Sequential()\n",
    "model_rnn.add(SimpleRNN(14, return_sequences=False, input_shape=(1,50)))\n",
    "model_rnn.add(Dropout(0.1))  \n",
    "\n",
    "#model_k.add(LSTM(6, return_sequences=False))  \n",
    "#model_k.add(Dropout(0.1))  \n",
    "\n",
    "model_rnn.add(Dense(1))\n",
    "model_rnn.compile(loss='mean_squared_error', optimizer='adam')"
   ]
  },
  {
   "cell_type": "code",
   "execution_count": null,
   "metadata": {},
   "outputs": [],
   "source": [
    "history_rnn = model_rnn.fit(x_train_reshaped, y_train, validation_data=(x_val_reshaped, y_val), epochs=20, batch_size=64, verbose=2)"
   ]
  },
  {
   "cell_type": "code",
   "execution_count": null,
   "metadata": {},
   "outputs": [],
   "source": [
    "plt.plot(history_rnn.history['loss'], label='train', color = 'r')\n",
    "plt.plot(history_rnn.history['val_loss'], label='val')\n",
    "plt.ylabel('Loss',fontsize=12)\n",
    "plt.xlabel('Epoch',fontsize=12)\n",
    "plt.legend()"
   ]
  },
  {
   "cell_type": "code",
   "execution_count": null,
   "metadata": {},
   "outputs": [],
   "source": [
    "res_rnn = model_rnn.predict(x_test_reshaped)"
   ]
  },
  {
   "cell_type": "code",
   "execution_count": null,
   "metadata": {},
   "outputs": [],
   "source": [
    "test_data[\"DL_PRED_RNN\"] = res_rnn\n",
    "x = test_data['Load']\n",
    "y = test_data[\"DL_PRED_RNN\"]\n",
    "\n",
    "fig,ax = plt.subplots()\n",
    "ax.scatter(y, x)\n",
    "ax.plot([y.min(), y.max()], [y.min(), y.max()], 'r', lw=2)\n",
    "ax.set_xlabel('Measured')\n",
    "ax.set_ylabel('Predicted')\n",
    "fig.show()"
   ]
  },
  {
   "cell_type": "code",
   "execution_count": null,
   "metadata": {},
   "outputs": [],
   "source": [
    "sqrt(mean_squared_error(test_data.Load,test_data.DL_PRED_RNN))"
   ]
  },
  {
   "cell_type": "code",
   "execution_count": null,
   "metadata": {},
   "outputs": [],
   "source": [
    "plt.plot(history_rnn.history['loss'], label='trainRNN', color = '#FF0000')\n",
    "plt.plot(history_rnn.history['val_loss'], label='valRNN', color = '#FF0000')\n",
    "plt.plot(history.history['loss'], label='trainLSTM', color = '#09CF00')\n",
    "plt.plot(history.history['val_loss'], label='valLSTM', color = '#09CF00')\n",
    "plt.plot(history_gru.history['loss'], label='trainGRU', color = '#0064FF')\n",
    "plt.plot(history_gru.history['val_loss'], label='valGRU', color = '#0064FF')\n",
    "plt.ylabel('Loss',fontsize=12)\n",
    "plt.xlabel('Epoch',fontsize=12)\n",
    "plt.legend()"
   ]
  },
  {
   "cell_type": "code",
   "execution_count": null,
   "metadata": {},
   "outputs": [],
   "source": [
    "plt.figure(figsize=(20,10))\n",
    "#test_data_withDates=data[(data['Date']>=datetime.date(2017,11,1))]\n",
    "#test_data_xaxis = test_data_withDates['Date']\n",
    "plt.tick_params(\n",
    "    axis='x',          # changes apply to the x-axis\n",
    "    which='both',      # both major and minor ticks are affected\n",
    "    bottom=False,      # ticks along the bottom edge are off\n",
    "    top=False,         # ticks along the top edge are off\n",
    "    labelbottom=False) # labels along the bottom edge are off\n",
    "\n",
    "plt.plot(test_data['DL_PRED_GRU'],'m')\n",
    "plt.plot(test_data['PV'],'g')\n",
    "plt.legend()"
   ]
  },
  {
   "cell_type": "code",
   "execution_count": null,
   "metadata": {},
   "outputs": [],
   "source": [
    "test_data['Load'].mean()"
   ]
  },
  {
   "cell_type": "code",
   "execution_count": null,
   "metadata": {},
   "outputs": [],
   "source": []
  }
 ],
 "metadata": {
  "kernelspec": {
   "display_name": "Python 3",
   "language": "python",
   "name": "python3"
  },
  "language_info": {
   "codemirror_mode": {
    "name": "ipython",
    "version": 3
   },
   "file_extension": ".py",
   "mimetype": "text/x-python",
   "name": "python",
   "nbconvert_exporter": "python",
   "pygments_lexer": "ipython3",
   "version": "3.7.3"
  }
 },
 "nbformat": 4,
 "nbformat_minor": 2
}
